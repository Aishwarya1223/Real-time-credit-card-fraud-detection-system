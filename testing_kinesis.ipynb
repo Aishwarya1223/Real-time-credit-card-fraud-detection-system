{
 "cells": [
  {
   "cell_type": "code",
   "execution_count": 1,
   "metadata": {},
   "outputs": [],
   "source": [
    "import numpy as np\n",
    "import pandas as pd\n",
    "import boto3\n",
    "import csv\n",
    "import random\n",
    "import json\n",
    "import pickle\n",
    "from botocore.exceptions import BotoCoreError, ClientError"
   ]
  },
  {
   "cell_type": "code",
   "execution_count": null,
   "metadata": {},
   "outputs": [],
   "source": [
    "bucket_name='<bucket-name>'"
   ]
  },
  {
   "cell_type": "code",
   "execution_count": 3,
   "metadata": {},
   "outputs": [],
   "source": [
    "data=pd.read_csv(r'C:\\CodeFiles\\2025-Credit-card-fraud-detection-system\\fraudTest.csv')\n"
   ]
  },
  {
   "cell_type": "code",
   "execution_count": 4,
   "metadata": {},
   "outputs": [],
   "source": [
    "data.drop(['Unnamed: 0','is_fraud'],axis=1).to_csv('TransactionData.csv',index=False)"
   ]
  },
  {
   "cell_type": "code",
   "execution_count": null,
   "metadata": {},
   "outputs": [],
   "source": [
    "# AWS Setup\n",
    "region_name = 'us-east-1'\n",
    "stream_name = 'credit-card-transaction-stream'\n",
    "kinesis_client = boto3.client('kinesis', region_name=region_name)\n",
    "\n",
    "def safe_float(value):\n",
    "    try:\n",
    "        return float(value)\n",
    "    except (ValueError, TypeError):\n",
    "        return 0.0\n",
    "\n",
    "def safe_int(value):\n",
    "    try:\n",
    "        return int(value)\n",
    "    except (ValueError, TypeError):\n",
    "        return 0\n",
    "\n",
    "csv_file_path = 'TransactionData.csv'\n",
    "\n",
    "# Read and Sample Data\n",
    "with open(csv_file_path, 'r') as file:\n",
    "    csv_reader = csv.DictReader(file)\n",
    "    rows = list(csv_reader)\n",
    "    selected_records = random.sample(rows, 20)\n",
    "\n",
    "    for row in selected_records:\n",
    "        try:\n",
    "            transaction = {\n",
    "                'trans_num': row.get('trans_num', 'unknown'),\n",
    "                'trans_date_trans_time': str(row.get('trans_date_trans_time', '')),\n",
    "                'merchant': row.get('merchant', ''),\n",
    "                'category': row.get('category', ''),\n",
    "                'amt': safe_float(row.get('amt')),\n",
    "                'city': row.get('city', ''),\n",
    "                'state':row.get('state',''),\n",
    "                'lat': safe_float(row.get('lat')),\n",
    "                'long': safe_float(row.get('long')),\n",
    "                'city_pop': safe_int(row.get('city_pop')),\n",
    "                'merch_lat': safe_float(row.get('merch_lat')),\n",
    "                'merch_long': safe_float(row.get('merch_long')),\n",
    "            }\n",
    "            \n",
    "            # Generate partition key safely\n",
    "            partition_key = str(row.get('trans_num', row.get('merchant', 'default_key')))\n",
    "            \n",
    "            response = kinesis_client.put_record(\n",
    "                StreamName=stream_name,\n",
    "                Data=json.dumps(transaction),\n",
    "                PartitionKey=partition_key\n",
    "            )\n",
    "            \n",
    "            print(json.dumps({\n",
    "                \"status\": \"Sent to Kinesis\",\n",
    "                \"transaction_id\": row.get('trans_num', 'unknown'),\n",
    "                \"response\": response\n",
    "            }))\n",
    "        except (BotoCoreError, ClientError) as e:\n",
    "            print(f\"Error sending transaction to Kinesis: {e}\")\n",
    "        except Exception as e:\n",
    "            print(f\"Unexpected error: {e}\")\n",
    "\n",
    "        "
   ]
  }
 ],
 "metadata": {
  "kernelspec": {
   "display_name": "Python 3",
   "language": "python",
   "name": "python3"
  },
  "language_info": {
   "codemirror_mode": {
    "name": "ipython",
    "version": 3
   },
   "file_extension": ".py",
   "mimetype": "text/x-python",
   "name": "python",
   "nbconvert_exporter": "python",
   "pygments_lexer": "ipython3",
   "version": "3.11.1"
  }
 },
 "nbformat": 4,
 "nbformat_minor": 2
}
